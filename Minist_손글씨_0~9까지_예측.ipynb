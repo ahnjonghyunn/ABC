{
  "nbformat": 4,
  "nbformat_minor": 0,
  "metadata": {
    "colab": {
      "provenance": [],
      "toc_visible": true,
      "include_colab_link": true
    },
    "kernelspec": {
      "name": "python3",
      "display_name": "Python 3"
    },
    "language_info": {
      "name": "python"
    }
  },
  "cells": [
    {
      "cell_type": "markdown",
      "metadata": {
        "id": "view-in-github",
        "colab_type": "text"
      },
      "source": [
        "<a href=\"https://colab.research.google.com/github/ahnjonghyunn/ABC/blob/main/Minist_%EC%86%90%EA%B8%80%EC%94%A8_0~9%EA%B9%8C%EC%A7%80_%EC%98%88%EC%B8%A1.ipynb\" target=\"_parent\"><img src=\"https://colab.research.google.com/assets/colab-badge.svg\" alt=\"Open In Colab\"/></a>"
      ]
    },
    {
      "cell_type": "markdown",
      "source": [
        "# MNIST 손글씨 0~9까지 예측하기"
      ],
      "metadata": {
        "id": "nsCKsidq_EtZ"
      }
    },
    {
      "cell_type": "markdown",
      "source": [
        "##1 데이터 준비하기"
      ],
      "metadata": {
        "id": "AYb8-MPB_evk"
      }
    },
    {
      "cell_type": "code",
      "execution_count": null,
      "metadata": {
        "id": "J1Qnurgg-xu-"
      },
      "outputs": [],
      "source": [
        "from keras.datasets.mnist import load_data #케라스 로드 데이터함수\n",
        "\n",
        "# 텐서플로우 저장소에서 데이터 다운로드\n",
        "(x_train,y_train),(x_test,y_test) = load_data(path='mnist.npz')\n"
      ]
    },
    {
      "cell_type": "markdown",
      "source": [
        "### 데이터 형태 확인하기"
      ],
      "metadata": {
        "id": "DZvRaXw-Aazp"
      }
    },
    {
      "cell_type": "code",
      "source": [
        "# 훈련 데이터셋\n",
        "print(x_train.shape, y_train.shape)\n",
        "print(y_train)\n",
        "\n",
        "# 테스트 데이터셋\n",
        "print(x_test.shape, y_test.shape)\n",
        "print(y_test)\n"
      ],
      "metadata": {
        "colab": {
          "base_uri": "https://localhost:8080/"
        },
        "id": "krSqrRMYAdoz",
        "outputId": "7b2e3e3c-6d9c-4a86-80af-1a042c72585f"
      },
      "execution_count": null,
      "outputs": [
        {
          "output_type": "stream",
          "name": "stdout",
          "text": [
            "(60000, 28, 28) (60000,)\n",
            "[5 0 4 ... 5 6 8]\n",
            "(10000, 28, 28) (10000,)\n",
            "[7 2 1 ... 4 5 6]\n"
          ]
        }
      ]
    },
    {
      "cell_type": "code",
      "source": [
        "print(x_train[0])"
      ],
      "metadata": {
        "colab": {
          "base_uri": "https://localhost:8080/"
        },
        "id": "w29x-CNZA-gf",
        "outputId": "4bc34647-6459-4c02-b683-1f1ee645628c"
      },
      "execution_count": null,
      "outputs": [
        {
          "output_type": "stream",
          "name": "stdout",
          "text": [
            "[[  0   0   0   0   0   0   0   0   0   0   0   0   0   0   0   0   0   0\n",
            "    0   0   0   0   0   0   0   0   0   0]\n",
            " [  0   0   0   0   0   0   0   0   0   0   0   0   0   0   0   0   0   0\n",
            "    0   0   0   0   0   0   0   0   0   0]\n",
            " [  0   0   0   0   0   0   0   0   0   0   0   0   0   0   0   0   0   0\n",
            "    0   0   0   0   0   0   0   0   0   0]\n",
            " [  0   0   0   0   0   0   0   0   0   0   0   0   0   0   0   0   0   0\n",
            "    0   0   0   0   0   0   0   0   0   0]\n",
            " [  0   0   0   0   0   0   0   0   0   0   0   0   0   0   0   0   0   0\n",
            "    0   0   0   0   0   0   0   0   0   0]\n",
            " [  0   0   0   0   0   0   0   0   0   0   0   0   3  18  18  18 126 136\n",
            "  175  26 166 255 247 127   0   0   0   0]\n",
            " [  0   0   0   0   0   0   0   0  30  36  94 154 170 253 253 253 253 253\n",
            "  225 172 253 242 195  64   0   0   0   0]\n",
            " [  0   0   0   0   0   0   0  49 238 253 253 253 253 253 253 253 253 251\n",
            "   93  82  82  56  39   0   0   0   0   0]\n",
            " [  0   0   0   0   0   0   0  18 219 253 253 253 253 253 198 182 247 241\n",
            "    0   0   0   0   0   0   0   0   0   0]\n",
            " [  0   0   0   0   0   0   0   0  80 156 107 253 253 205  11   0  43 154\n",
            "    0   0   0   0   0   0   0   0   0   0]\n",
            " [  0   0   0   0   0   0   0   0   0  14   1 154 253  90   0   0   0   0\n",
            "    0   0   0   0   0   0   0   0   0   0]\n",
            " [  0   0   0   0   0   0   0   0   0   0   0 139 253 190   2   0   0   0\n",
            "    0   0   0   0   0   0   0   0   0   0]\n",
            " [  0   0   0   0   0   0   0   0   0   0   0  11 190 253  70   0   0   0\n",
            "    0   0   0   0   0   0   0   0   0   0]\n",
            " [  0   0   0   0   0   0   0   0   0   0   0   0  35 241 225 160 108   1\n",
            "    0   0   0   0   0   0   0   0   0   0]\n",
            " [  0   0   0   0   0   0   0   0   0   0   0   0   0  81 240 253 253 119\n",
            "   25   0   0   0   0   0   0   0   0   0]\n",
            " [  0   0   0   0   0   0   0   0   0   0   0   0   0   0  45 186 253 253\n",
            "  150  27   0   0   0   0   0   0   0   0]\n",
            " [  0   0   0   0   0   0   0   0   0   0   0   0   0   0   0  16  93 252\n",
            "  253 187   0   0   0   0   0   0   0   0]\n",
            " [  0   0   0   0   0   0   0   0   0   0   0   0   0   0   0   0   0 249\n",
            "  253 249  64   0   0   0   0   0   0   0]\n",
            " [  0   0   0   0   0   0   0   0   0   0   0   0   0   0  46 130 183 253\n",
            "  253 207   2   0   0   0   0   0   0   0]\n",
            " [  0   0   0   0   0   0   0   0   0   0   0   0  39 148 229 253 253 253\n",
            "  250 182   0   0   0   0   0   0   0   0]\n",
            " [  0   0   0   0   0   0   0   0   0   0  24 114 221 253 253 253 253 201\n",
            "   78   0   0   0   0   0   0   0   0   0]\n",
            " [  0   0   0   0   0   0   0   0  23  66 213 253 253 253 253 198  81   2\n",
            "    0   0   0   0   0   0   0   0   0   0]\n",
            " [  0   0   0   0   0   0  18 171 219 253 253 253 253 195  80   9   0   0\n",
            "    0   0   0   0   0   0   0   0   0   0]\n",
            " [  0   0   0   0  55 172 226 253 253 253 253 244 133  11   0   0   0   0\n",
            "    0   0   0   0   0   0   0   0   0   0]\n",
            " [  0   0   0   0 136 253 253 253 212 135 132  16   0   0   0   0   0   0\n",
            "    0   0   0   0   0   0   0   0   0   0]\n",
            " [  0   0   0   0   0   0   0   0   0   0   0   0   0   0   0   0   0   0\n",
            "    0   0   0   0   0   0   0   0   0   0]\n",
            " [  0   0   0   0   0   0   0   0   0   0   0   0   0   0   0   0   0   0\n",
            "    0   0   0   0   0   0   0   0   0   0]\n",
            " [  0   0   0   0   0   0   0   0   0   0   0   0   0   0   0   0   0   0\n",
            "    0   0   0   0   0   0   0   0   0   0]]\n"
          ]
        }
      ]
    },
    {
      "cell_type": "code",
      "source": [
        "import matplotlib.pyplot as plt\n",
        "import numpy as np\n",
        "\n",
        "idx = 1  #다른값들 확인해보기 0~9\n",
        "img = x_train[idx, :]\n",
        "label = y_train[idx]\n",
        "plt.figure()\n",
        "plt.imshow(img)\n",
        "plt.title('%d-th data, label is %d' % (idx, label));\n"
      ],
      "metadata": {
        "colab": {
          "base_uri": "https://localhost:8080/",
          "height": 452
        },
        "id": "VYpyGW_oBwPD",
        "outputId": "624c4213-5d7d-422b-9dfe-d8a8bac82f87"
      },
      "execution_count": null,
      "outputs": [
        {
          "output_type": "display_data",
          "data": {
            "text/plain": [
              "<Figure size 640x480 with 1 Axes>"
            ],
            "image/png": "[encoded data removed]"
          },
          "metadata": {}
        }
      ]
    },
    {
      "cell_type": "markdown",
      "source": [
        "##2 훈련데이터 검증데이터 만들기\n",
        "\n",
        "train / val(검증) 쪽지시험(학습이용 x)\n",
        "     70     30\n"
      ],
      "metadata": {
        "id": "aTp32hd0Cfs9"
      }
    },
    {
      "cell_type": "code",
      "source": [
        "from sklearn.model_selection import train_test_split\n",
        "\n",
        "#훈련/검증 데이터 셋 분리 (70:30)\n",
        "\n",
        "x_train, x_val, y_train, y_val=train_test_split(x_train,y_train, test_size= 0.3,random_state=777)\n",
        "\n",
        "print('훈련 데이터셋', x_train.shape)\n",
        "print('검증 데이터셋', x_val.shape)\n"
      ],
      "metadata": {
        "colab": {
          "base_uri": "https://localhost:8080/"
        },
        "id": "Gm9BKZtRCp6B",
        "outputId": "9cb44133-631c-4066-e320-2d6a0d4f85b8"
      },
      "execution_count": null,
      "outputs": [
        {
          "output_type": "stream",
          "name": "stdout",
          "text": [
            "훈련 데이터셋 (42000, 28, 28)\n",
            "검증 데이터셋 (18000, 28, 28)\n"
          ]
        }
      ]
    },
    {
      "cell_type": "markdown",
      "source": [
        "##3 학습 데이터 모델 입력을 위한 전처리\n",
        "\n",
        "1. 2차원 배열 ->1차원 배열로 변경\n",
        "2. 스케일링"
      ],
      "metadata": {
        "id": "PIasvWvzEGbE"
      }
    },
    {
      "cell_type": "code",
      "source": [
        "# 1차원 배열로 변경\n",
        "num_x_train = x_train.shape[0] #42000\n",
        "num_x_val = x_val.shape[0] #18000\n",
        "num_x_test = x_test.shape[0] #10000\n",
        "\n",
        "#2차원 배열 -> 1차원 배열로 변경(28 * 28 = 784)\n",
        "x_train=x_train.reshape((num_x_train, 28*28))\n",
        "x_val=x_val.reshape((num_x_val, 28*28))\n",
        "x_test=x_test.reshape((num_x_test, 28*28))\n",
        "\n",
        "print(x_train.shape)\n"
      ],
      "metadata": {
        "colab": {
          "base_uri": "https://localhost:8080/"
        },
        "id": "7xDDfhgNEoz8",
        "outputId": "8f8bf3ad-88ce-45b1-803a-e608af320d0d"
      },
      "execution_count": null,
      "outputs": [
        {
          "output_type": "stream",
          "name": "stdout",
          "text": [
            "(42000, 784)\n"
          ]
        }
      ]
    },
    {
      "cell_type": "code",
      "source": [
        "x_train[0]"
      ],
      "metadata": {
        "colab": {
          "base_uri": "https://localhost:8080/"
        },
        "id": "FKSYCxpyGCH3",
        "outputId": "796913d4-192d-4452-a338-35199eec6384"
      },
      "execution_count": null,
      "outputs": [
        {
          "output_type": "execute_result",
          "data": {
            "text/plain": [
              "array([  0,   0,   0,   0,   0,   0,   0,   0,   0,   0,   0,   0,   0,\n",
              "         0,   0,   0,   0,   0,   0,   0,   0,   0,   0,   0,   0,   0,\n",
              "         0,   0,   0,   0,   0,   0,   0,   0,   0,   0,   0,   0,   0,\n",
              "         0,   0,   0,   0,   0,   0,   0,   0,   0,   0,   0,   0,   0,\n",
              "         0,   0,   0,   0,   0,   0,   0,   0,   0,   0,   0,   0,   0,\n",
              "         0,   0,   0,   0,   0,   0,   0,   0,   0,   0,   0,   0,   0,\n",
              "         0,   0,   0,   0,   0,   0,   0,   0,   0,   0,   0,   0,   0,\n",
              "         0,   0,   0,   0,   0,   0,  25, 126, 208, 254, 226,  12,   0,\n",
              "         0,   0,   0,   0,   0,   0,   0,   0,   0,   0,   0,   0,   0,\n",
              "         0,   0,   0,   0,   0,   0,   0,  15, 211, 254, 253, 253, 253,\n",
              "       102,   0,   0,   0,   0,   0,   0,   0,   0,   0,   0,   0,   0,\n",
              "         0,   0,   0,   0,   0,   0,   0,   0,   0, 140, 253, 254, 253,\n",
              "       253, 253, 185,   0,   0,   0,   0,   0,   0,   0,   0,   0,   0,\n",
              "         0,   0,   0,   0,   0,   0,   0,   0,   0,   0,   0, 188, 253,\n",
              "       254, 253, 253, 253, 206,   0,   0,   0,   0,   0,   0,   0,   0,\n",
              "         0,   0,   0,   0,   0,   0,   0,   0,   0,   0,   0,   0,   0,\n",
              "        65, 241, 254, 218, 253, 253, 171,   0,   0,   0,   0,   0,   0,\n",
              "         0,   0,   0,   0,   0,   0,   0,   0,   0,   0,   0,   0,   0,\n",
              "         0,   0,   0,  35,  47,  85, 253, 253, 164,   0,   0,   0,   0,\n",
              "         0,   0,   0,   0,   0,   0,   0,   0,   0,   0,   0,   0,   0,\n",
              "         0,   0,   0,   0,   0,   0,   0, 131, 253, 253,  46,   0,   0,\n",
              "         0,   0,   0,   0,   0,   0,   0,   0,   0,   0,   0,   0,   0,\n",
              "         0,   0,   0,   0,   0,   0,   0,   0,  61, 238, 253, 180,   1,\n",
              "         0,   0,   0,   0,   0,   0,   0,   0,   0,   0,   0,   0,   0,\n",
              "         0,   0,   0,   0,   0,   0,   0,   0,   0,   0, 170, 253, 253,\n",
              "       132,   0,   0,   0,   0,   0,   0,   0,   0,   0,   0,   0,   0,\n",
              "         0,   0,   0,   0,   0,   0,   0,   0,   0,   0,   0, 105, 254,\n",
              "       253, 176,  22,   0,   0,   0,   0,   0,   0,   0,   0,   0,   0,\n",
              "         0,   0,   0,   0,   0,   0,   0,   0,   0,   0,   0,   0, 113,\n",
              "       254, 255, 170,  21,   0,   0,   0,   0,   0,   0,   0,   0,   0,\n",
              "         0,   0,   0,   0,   0,   0,   0,   0,   0,   0,   0,   0,   0,\n",
              "       114, 249, 253, 205,  24,   0,   0,   0,   0,   0,   0,   0,   0,\n",
              "         0,   0,   0,   0,   0,   0,   0,   0,   0,   2,  87, 197, 197,\n",
              "       190, 169, 251, 253, 211,  21,   0,   0,   0,   0,   0,   0,   3,\n",
              "        80,   3,   0,   0,   0,   0,   0,   0,   0,   0,   0, 128, 253,\n",
              "       253, 253, 253, 253, 253, 206,  22,   0,   0,   0,   0,   0,   0,\n",
              "         0, 147, 234,  22,   0,   0,   0,   0,   0,   0,   0,   0,  55,\n",
              "       241, 253, 253, 253, 253, 253, 253, 188,  13,   0,   0,   0,   0,\n",
              "         0,   4, 144, 252, 207,   0,   0,   0,   0,   0,   0,   0,   0,\n",
              "         0, 152, 253, 253, 253, 253, 251, 199, 252, 253, 183,   7,   0,\n",
              "         0,   0,   0,  68, 253, 253,  54,   0,   0,   0,   0,   0,   0,\n",
              "         0,   0,   0,  20, 135, 253, 253, 156,  69,   0, 213, 253, 253,\n",
              "       207,  83,   0,   0,  97, 239, 253, 234,  25,   0,   0,   0,   0,\n",
              "         0,   0,   0,   0,   0,   0,   2,   9,   9,   1,   0,   0,  27,\n",
              "       210, 253, 254, 251, 244, 244, 252, 253, 253,  15,   0,   0,   0,\n",
              "         0,   0,   0,   0,   0,   0,   0,   0,   0,   0,   0,   0,   0,\n",
              "         0,   0,  18, 176, 254, 253, 253, 253, 253, 244, 100,   2,   0,\n",
              "         0,   0,   0,   0,   0,   0,   0,   0,   0,   0,   0,   0,   0,\n",
              "         0,   0,   0,   0,   0,   0, 125, 159, 159, 193, 141,  61,   0,\n",
              "         0,   0,   0,   0,   0,   0,   0,   0,   0,   0,   0,   0,   0,\n",
              "         0,   0,   0,   0,   0,   0,   0,   0,   0,   0,   0,   0,   0,\n",
              "         0,   0,   0,   0,   0,   0,   0,   0,   0,   0,   0,   0,   0,\n",
              "         0,   0,   0,   0,   0,   0,   0,   0,   0,   0,   0,   0,   0,\n",
              "         0,   0,   0,   0,   0,   0,   0,   0,   0,   0,   0,   0,   0,\n",
              "         0,   0,   0,   0,   0,   0,   0,   0,   0,   0,   0,   0,   0,\n",
              "         0,   0,   0,   0,   0,   0,   0,   0,   0,   0,   0,   0,   0,\n",
              "         0,   0,   0,   0,   0,   0,   0,   0,   0,   0,   0,   0,   0,\n",
              "         0,   0,   0,   0,   0,   0,   0,   0,   0,   0,   0,   0,   0,\n",
              "         0,   0,   0,   0,   0,   0,   0,   0,   0,   0,   0,   0,   0,\n",
              "         0,   0,   0,   0,   0,   0,   0,   0,   0,   0,   0,   0,   0,\n",
              "         0,   0,   0,   0], dtype=uint8)"
            ]
          },
          "metadata": {},
          "execution_count": 7
        }
      ]
    },
    {
      "cell_type": "code",
      "source": [
        "#데이터 스케일링  0~255 -> 0~1 (가장 큰 값(255)으로 나누기)\n",
        "#여러가지 전처리 방법 - 스케일링\n",
        "#Normalization(MinMax)  정해진 값일떄 사용\n",
        "#Robust Noralization  ex) 나이\n",
        "#standardization 평균의  표준편차로 나눔\n",
        "\n",
        "x_train = x_train/255\n",
        "x_val = x_val / 255\n",
        "x_test = x_test / 255\n",
        "\n",
        "print(x_train[0])\n"
      ],
      "metadata": {
        "colab": {
          "base_uri": "https://localhost:8080/"
        },
        "id": "pWrjanoyGN-w",
        "outputId": "db827d45-d94b-4ac4-9db2-60945968a591"
      },
      "execution_count": null,
      "outputs": [
        {
          "output_type": "stream",
          "name": "stdout",
          "text": [
            "[0.         0.         0.         0.         0.         0.\n",
            " 0.         0.         0.         0.         0.         0.\n",
            " 0.         0.         0.         0.         0.         0.\n",
            " 0.         0.         0.         0.         0.         0.\n",
            " 0.         0.         0.         0.         0.         0.\n",
            " 0.         0.         0.         0.         0.         0.\n",
            " 0.         0.         0.         0.         0.         0.\n",
            " 0.         0.         0.         0.         0.         0.\n",
            " 0.         0.         0.         0.         0.         0.\n",
            " 0.         0.         0.         0.         0.         0.\n",
            " 0.         0.         0.         0.         0.         0.\n",
            " 0.         0.         0.         0.         0.         0.\n",
            " 0.         0.         0.         0.         0.         0.\n",
            " 0.         0.         0.         0.         0.         0.\n",
            " 0.         0.         0.         0.         0.         0.\n",
            " 0.         0.         0.         0.         0.         0.\n",
            " 0.         0.09803922 0.49411765 0.81568627 0.99607843 0.88627451\n",
            " 0.04705882 0.         0.         0.         0.         0.\n",
            " 0.         0.         0.         0.         0.         0.\n",
            " 0.         0.         0.         0.         0.         0.\n",
            " 0.         0.         0.         0.         0.05882353 0.82745098\n",
            " 0.99607843 0.99215686 0.99215686 0.99215686 0.4        0.\n",
            " 0.         0.         0.         0.         0.         0.\n",
            " 0.         0.         0.         0.         0.         0.\n",
            " 0.         0.         0.         0.         0.         0.\n",
            " 0.         0.         0.54901961 0.99215686 0.99607843 0.99215686\n",
            " 0.99215686 0.99215686 0.7254902  0.         0.         0.\n",
            " 0.         0.         0.         0.         0.         0.\n",
            " 0.         0.         0.         0.         0.         0.\n",
            " 0.         0.         0.         0.         0.         0.\n",
            " 0.7372549  0.99215686 0.99607843 0.99215686 0.99215686 0.99215686\n",
            " 0.80784314 0.         0.         0.         0.         0.\n",
            " 0.         0.         0.         0.         0.         0.\n",
            " 0.         0.         0.         0.         0.         0.\n",
            " 0.         0.         0.         0.         0.25490196 0.94509804\n",
            " 0.99607843 0.85490196 0.99215686 0.99215686 0.67058824 0.\n",
            " 0.         0.         0.         0.         0.         0.\n",
            " 0.         0.         0.         0.         0.         0.\n",
            " 0.         0.         0.         0.         0.         0.\n",
            " 0.         0.         0.         0.1372549  0.18431373 0.33333333\n",
            " 0.99215686 0.99215686 0.64313725 0.         0.         0.\n",
            " 0.         0.         0.         0.         0.         0.\n",
            " 0.         0.         0.         0.         0.         0.\n",
            " 0.         0.         0.         0.         0.         0.\n",
            " 0.         0.         0.         0.51372549 0.99215686 0.99215686\n",
            " 0.18039216 0.         0.         0.         0.         0.\n",
            " 0.         0.         0.         0.         0.         0.\n",
            " 0.         0.         0.         0.         0.         0.\n",
            " 0.         0.         0.         0.         0.         0.\n",
            " 0.23921569 0.93333333 0.99215686 0.70588235 0.00392157 0.\n",
            " 0.         0.         0.         0.         0.         0.\n",
            " 0.         0.         0.         0.         0.         0.\n",
            " 0.         0.         0.         0.         0.         0.\n",
            " 0.         0.         0.         0.         0.66666667 0.99215686\n",
            " 0.99215686 0.51764706 0.         0.         0.         0.\n",
            " 0.         0.         0.         0.         0.         0.\n",
            " 0.         0.         0.         0.         0.         0.\n",
            " 0.         0.         0.         0.         0.         0.\n",
            " 0.         0.41176471 0.99607843 0.99215686 0.69019608 0.08627451\n",
            " 0.         0.         0.         0.         0.         0.\n",
            " 0.         0.         0.         0.         0.         0.\n",
            " 0.         0.         0.         0.         0.         0.\n",
            " 0.         0.         0.         0.         0.44313725 0.99607843\n",
            " 1.         0.66666667 0.08235294 0.         0.         0.\n",
            " 0.         0.         0.         0.         0.         0.\n",
            " 0.         0.         0.         0.         0.         0.\n",
            " 0.         0.         0.         0.         0.         0.\n",
            " 0.         0.44705882 0.97647059 0.99215686 0.80392157 0.09411765\n",
            " 0.         0.         0.         0.         0.         0.\n",
            " 0.         0.         0.         0.         0.         0.\n",
            " 0.         0.         0.         0.         0.         0.00784314\n",
            " 0.34117647 0.77254902 0.77254902 0.74509804 0.6627451  0.98431373\n",
            " 0.99215686 0.82745098 0.08235294 0.         0.         0.\n",
            " 0.         0.         0.         0.01176471 0.31372549 0.01176471\n",
            " 0.         0.         0.         0.         0.         0.\n",
            " 0.         0.         0.         0.50196078 0.99215686 0.99215686\n",
            " 0.99215686 0.99215686 0.99215686 0.99215686 0.80784314 0.08627451\n",
            " 0.         0.         0.         0.         0.         0.\n",
            " 0.         0.57647059 0.91764706 0.08627451 0.         0.\n",
            " 0.         0.         0.         0.         0.         0.\n",
            " 0.21568627 0.94509804 0.99215686 0.99215686 0.99215686 0.99215686\n",
            " 0.99215686 0.99215686 0.7372549  0.05098039 0.         0.\n",
            " 0.         0.         0.         0.01568627 0.56470588 0.98823529\n",
            " 0.81176471 0.         0.         0.         0.         0.\n",
            " 0.         0.         0.         0.         0.59607843 0.99215686\n",
            " 0.99215686 0.99215686 0.99215686 0.98431373 0.78039216 0.98823529\n",
            " 0.99215686 0.71764706 0.02745098 0.         0.         0.\n",
            " 0.         0.26666667 0.99215686 0.99215686 0.21176471 0.\n",
            " 0.         0.         0.         0.         0.         0.\n",
            " 0.         0.         0.07843137 0.52941176 0.99215686 0.99215686\n",
            " 0.61176471 0.27058824 0.         0.83529412 0.99215686 0.99215686\n",
            " 0.81176471 0.3254902  0.         0.         0.38039216 0.9372549\n",
            " 0.99215686 0.91764706 0.09803922 0.         0.         0.\n",
            " 0.         0.         0.         0.         0.         0.\n",
            " 0.         0.00784314 0.03529412 0.03529412 0.00392157 0.\n",
            " 0.         0.10588235 0.82352941 0.99215686 0.99607843 0.98431373\n",
            " 0.95686275 0.95686275 0.98823529 0.99215686 0.99215686 0.05882353\n",
            " 0.         0.         0.         0.         0.         0.\n",
            " 0.         0.         0.         0.         0.         0.\n",
            " 0.         0.         0.         0.         0.         0.\n",
            " 0.07058824 0.69019608 0.99607843 0.99215686 0.99215686 0.99215686\n",
            " 0.99215686 0.95686275 0.39215686 0.00784314 0.         0.\n",
            " 0.         0.         0.         0.         0.         0.\n",
            " 0.         0.         0.         0.         0.         0.\n",
            " 0.         0.         0.         0.         0.         0.\n",
            " 0.49019608 0.62352941 0.62352941 0.75686275 0.55294118 0.23921569\n",
            " 0.         0.         0.         0.         0.         0.\n",
            " 0.         0.         0.         0.         0.         0.\n",
            " 0.         0.         0.         0.         0.         0.\n",
            " 0.         0.         0.         0.         0.         0.\n",
            " 0.         0.         0.         0.         0.         0.\n",
            " 0.         0.         0.         0.         0.         0.\n",
            " 0.         0.         0.         0.         0.         0.\n",
            " 0.         0.         0.         0.         0.         0.\n",
            " 0.         0.         0.         0.         0.         0.\n",
            " 0.         0.         0.         0.         0.         0.\n",
            " 0.         0.         0.         0.         0.         0.\n",
            " 0.         0.         0.         0.         0.         0.\n",
            " 0.         0.         0.         0.         0.         0.\n",
            " 0.         0.         0.         0.         0.         0.\n",
            " 0.         0.         0.         0.         0.         0.\n",
            " 0.         0.         0.         0.         0.         0.\n",
            " 0.         0.         0.         0.         0.         0.\n",
            " 0.         0.         0.         0.         0.         0.\n",
            " 0.         0.         0.         0.         0.         0.\n",
            " 0.         0.         0.         0.         0.         0.\n",
            " 0.         0.         0.         0.         0.         0.\n",
            " 0.         0.         0.         0.         0.         0.\n",
            " 0.         0.         0.         0.         0.         0.\n",
            " 0.         0.         0.         0.         0.         0.\n",
            " 0.         0.         0.         0.        ]\n"
          ]
        }
      ]
    },
    {
      "cell_type": "markdown",
      "source": [
        "##4 모델 입력을 위한 레이블 전처리"
      ],
      "metadata": {
        "id": "5nYCOHk-H2Q7"
      }
    },
    {
      "cell_type": "code",
      "source": [
        "y_train"
      ],
      "metadata": {
        "colab": {
          "base_uri": "https://localhost:8080/"
        },
        "id": "x8_9NcRSJMh9",
        "outputId": "17491050-f08e-40ba-fd29-fce5890156b5"
      },
      "execution_count": null,
      "outputs": [
        {
          "output_type": "execute_result",
          "data": {
            "text/plain": [
              "array([2, 7, 6, ..., 3, 4, 5], dtype=uint8)"
            ]
          },
          "metadata": {},
          "execution_count": 9
        }
      ]
    },
    {
      "cell_type": "code",
      "source": [
        "#y_train #숫자를 의미를 인식하는것이 아니라 이미지\n",
        "# 9 -> 0000000001 범주형\n",
        "from keras.utils import to_categorical\n",
        "\n",
        "y_train = to_categorical(y_train)\n",
        "y_val = to_categorical(y_val)\n",
        "y_test = to_categorical(y_test)\n",
        "\n",
        "print(y_train[0])"
      ],
      "metadata": {
        "colab": {
          "base_uri": "https://localhost:8080/"
        },
        "id": "nII176alH9FB",
        "outputId": "c258ff83-610c-4dfc-aaec-022fae2b7bb1"
      },
      "execution_count": null,
      "outputs": [
        {
          "output_type": "stream",
          "name": "stdout",
          "text": [
            "[0. 0. 1. 0. 0. 0. 0. 0. 0. 0.]\n"
          ]
        }
      ]
    },
    {
      "cell_type": "markdown",
      "source": [
        "##5 모델 구성하기"
      ],
      "metadata": {
        "id": "tLBs7fE1JN4Q"
      }
    },
    {
      "cell_type": "code",
      "source": [
        "from keras.models import Sequential\n",
        "from keras.layers import Dense\n",
        "\n",
        "model = Sequential()\n",
        "\n",
        "model.add(Dense(64, activation ='relu',input_shape=(784,)))\n",
        "model.add(Dense(32, activation = 'relu')) #32개의 출력을 가지는 Dense층\n",
        "model.add(Dense(10, activation = 'softmax')) #다중분류 활성화 함수 SOTA ,10개의 출력을 가지는 신경망"
      ],
      "metadata": {
        "id": "LGhAF5mdJQ4J"
      },
      "execution_count": null,
      "outputs": []
    },
    {
      "cell_type": "markdown",
      "source": [
        "##6 모델 설정하기"
      ],
      "metadata": {
        "id": "rk8CacVxKZEx"
      }
    },
    {
      "cell_type": "code",
      "source": [
        "model.compile(optimizer='adam', #옵티마이져:adam\n",
        "              loss = 'categorical_crossentropy', #손실함수 : categorical_crossentropy\n",
        "              metrics = ['acc']) #모니터링 할 평가지표 : 정확도"
      ],
      "metadata": {
        "id": "1DkqXG8sKbHu"
      },
      "execution_count": null,
      "outputs": []
    },
    {
      "cell_type": "markdown",
      "source": [
        "##7 모델 학습하기\n"
      ],
      "metadata": {
        "id": "BDQ_bA7BLJWA"
      }
    },
    {
      "cell_type": "code",
      "source": [
        "history = model.fit(x_train,y_train, #훈련 데이터 특성,\n",
        "          epochs=30, # 30번 학습\n",
        "          batch_size =128, #몇번에 나눠서 학습 할 것인지->128 나눠서 학습\n",
        "          validation_data=(x_val,y_val)) #검증 데이터\n",
        "\n"
      ],
      "metadata": {
        "colab": {
          "base_uri": "https://localhost:8080/"
        },
        "id": "WjQpwsCKLL93",
        "outputId": "4b0bcabc-a6e8-4288-f6eb-a15602f8690f"
      },
      "execution_count": null,
      "outputs": [
        {
          "output_type": "stream",
          "name": "stdout",
          "text": [
            "Epoch 1/30\n",
            "329/329 [==============================] - 7s 13ms/step - loss: 0.5043 - acc: 0.8600 - val_loss: 0.2321 - val_acc: 0.9335\n",
            "Epoch 2/30\n",
            "329/329 [==============================] - 4s 12ms/step - loss: 0.2023 - acc: 0.9419 - val_loss: 0.1800 - val_acc: 0.9481\n",
            "Epoch 3/30\n",
            "329/329 [==============================] - 5s 14ms/step - loss: 0.1525 - acc: 0.9561 - val_loss: 0.1506 - val_acc: 0.9571\n",
            "Epoch 4/30\n",
            "329/329 [==============================] - 3s 9ms/step - loss: 0.1257 - acc: 0.9630 - val_loss: 0.1393 - val_acc: 0.9597\n",
            "Epoch 5/30\n",
            "329/329 [==============================] - 2s 7ms/step - loss: 0.1053 - acc: 0.9695 - val_loss: 0.1232 - val_acc: 0.9631\n",
            "Epoch 6/30\n",
            "329/329 [==============================] - 1s 4ms/step - loss: 0.0899 - acc: 0.9735 - val_loss: 0.1214 - val_acc: 0.9634\n",
            "Epoch 7/30\n",
            "329/329 [==============================] - 1s 5ms/step - loss: 0.0768 - acc: 0.9773 - val_loss: 0.1111 - val_acc: 0.9657\n",
            "Epoch 8/30\n",
            "329/329 [==============================] - 2s 6ms/step - loss: 0.0675 - acc: 0.9799 - val_loss: 0.1074 - val_acc: 0.9679\n",
            "Epoch 9/30\n",
            "329/329 [==============================] - 2s 8ms/step - loss: 0.0592 - acc: 0.9830 - val_loss: 0.1017 - val_acc: 0.9684\n",
            "Epoch 10/30\n",
            "329/329 [==============================] - 1s 4ms/step - loss: 0.0515 - acc: 0.9845 - val_loss: 0.1021 - val_acc: 0.9690\n",
            "Epoch 11/30\n",
            "329/329 [==============================] - 1s 4ms/step - loss: 0.0440 - acc: 0.9873 - val_loss: 0.1000 - val_acc: 0.9702\n",
            "Epoch 12/30\n",
            "329/329 [==============================] - 1s 4ms/step - loss: 0.0390 - acc: 0.9894 - val_loss: 0.0995 - val_acc: 0.9701\n",
            "Epoch 13/30\n",
            "329/329 [==============================] - 1s 4ms/step - loss: 0.0333 - acc: 0.9910 - val_loss: 0.1058 - val_acc: 0.9699\n",
            "Epoch 14/30\n",
            "329/329 [==============================] - 1s 4ms/step - loss: 0.0315 - acc: 0.9911 - val_loss: 0.1011 - val_acc: 0.9709\n",
            "Epoch 15/30\n",
            "329/329 [==============================] - 1s 4ms/step - loss: 0.0292 - acc: 0.9913 - val_loss: 0.1052 - val_acc: 0.9691\n",
            "Epoch 16/30\n",
            "329/329 [==============================] - 1s 4ms/step - loss: 0.0245 - acc: 0.9931 - val_loss: 0.1046 - val_acc: 0.9708\n",
            "Epoch 17/30\n",
            "329/329 [==============================] - 3s 8ms/step - loss: 0.0204 - acc: 0.9947 - val_loss: 0.1152 - val_acc: 0.9682\n",
            "Epoch 18/30\n",
            "329/329 [==============================] - 2s 5ms/step - loss: 0.0183 - acc: 0.9950 - val_loss: 0.1185 - val_acc: 0.9680\n",
            "Epoch 19/30\n",
            "329/329 [==============================] - 1s 4ms/step - loss: 0.0158 - acc: 0.9955 - val_loss: 0.1082 - val_acc: 0.9705\n",
            "Epoch 20/30\n",
            "329/329 [==============================] - 1s 4ms/step - loss: 0.0147 - acc: 0.9963 - val_loss: 0.1197 - val_acc: 0.9669\n",
            "Epoch 21/30\n",
            "329/329 [==============================] - 1s 4ms/step - loss: 0.0123 - acc: 0.9970 - val_loss: 0.1322 - val_acc: 0.9667\n",
            "Epoch 22/30\n",
            "329/329 [==============================] - 1s 4ms/step - loss: 0.0121 - acc: 0.9965 - val_loss: 0.1199 - val_acc: 0.9692\n",
            "Epoch 23/30\n",
            "329/329 [==============================] - 2s 5ms/step - loss: 0.0105 - acc: 0.9971 - val_loss: 0.1246 - val_acc: 0.9692\n",
            "Epoch 24/30\n",
            "329/329 [==============================] - 2s 7ms/step - loss: 0.0089 - acc: 0.9978 - val_loss: 0.1242 - val_acc: 0.9707\n",
            "Epoch 25/30\n",
            "329/329 [==============================] - 3s 8ms/step - loss: 0.0056 - acc: 0.9990 - val_loss: 0.1226 - val_acc: 0.9705\n",
            "Epoch 26/30\n",
            "329/329 [==============================] - 2s 6ms/step - loss: 0.0123 - acc: 0.9960 - val_loss: 0.1377 - val_acc: 0.9689\n",
            "Epoch 27/30\n",
            "329/329 [==============================] - 1s 4ms/step - loss: 0.0069 - acc: 0.9984 - val_loss: 0.1330 - val_acc: 0.9702\n",
            "Epoch 28/30\n",
            "329/329 [==============================] - 1s 4ms/step - loss: 0.0054 - acc: 0.9986 - val_loss: 0.1316 - val_acc: 0.9696\n",
            "Epoch 29/30\n",
            "329/329 [==============================] - 2s 5ms/step - loss: 0.0046 - acc: 0.9990 - val_loss: 0.1427 - val_acc: 0.9694\n",
            "Epoch 30/30\n",
            "329/329 [==============================] - 1s 4ms/step - loss: 0.0044 - acc: 0.9990 - val_loss: 0.1429 - val_acc: 0.9693\n"
          ]
        }
      ]
    },
    {
      "cell_type": "markdown",
      "source": [
        "##8 성능평가"
      ],
      "metadata": {
        "id": "1mw638l4OSj2"
      }
    },
    {
      "cell_type": "markdown",
      "source": [
        "### 학습 결과 그려보기\n",
        "epochs 줄여보기\n",
        "train_acc 집착 x\n",
        "만나는 지점 최고 높은 곳 0.96정도\n",
        "데이터 셋을 더 확보하는 것이 가장 좋은방법\n",
        "train val 지점 만나는 구간 확인"
      ],
      "metadata": {
        "id": "KMBKKJ2JOVsV"
      }
    },
    {
      "cell_type": "code",
      "source": [
        "import matplotlib.pyplot as plt\n",
        "\n",
        "his_dict = history.history\n",
        "loss = his_dict['loss']\n",
        "val_loss = his_dict['val_loss'] # 검증 데이터가 있는 경우 ‘val_’ 수식어가 붙습니다.\n",
        "\n",
        "epochs = range(1, len(loss) + 1)\n",
        "fig = plt.figure(figsize = (10, 5))\n",
        "\n",
        "# 훈련 및 검증 손실 그리기\n",
        "ax1 = fig.add_subplot(1, 2, 1)\n",
        "ax1.plot(epochs, loss, color = 'blue', label = 'train_loss')\n",
        "ax1.plot(epochs, val_loss, color = 'orange', label = 'val_loss')\n",
        "ax1.set_title('train and val loss')\n",
        "ax1.set_xlabel('epochs')\n",
        "ax1.set_ylabel('loss')\n",
        "ax1.legend()\n",
        "\n",
        "acc = his_dict['acc']\n",
        "val_acc = his_dict['val_acc']\n",
        "\n",
        "# 훈련 및 검증 정확도 그리기\n",
        "ax2 = fig.add_subplot(1, 2, 2)\n",
        "ax2.plot(epochs, acc, color = 'blue', label = 'train_acc')\n",
        "ax2.plot(epochs, val_acc, color = 'orange', label = 'val_acc')\n",
        "ax2.set_title('train and val acc')\n",
        "ax2.set_xlabel('epochs')\n",
        "ax2.set_ylabel('loss')\n",
        "ax2.legend()\n",
        "\n",
        "plt.show()"
      ],
      "metadata": {
        "colab": {
          "base_uri": "https://localhost:8080/",
          "height": 487
        },
        "id": "OsIuziJbOXwH",
        "outputId": "0351a75e-e8c0-417f-d913-a521e8037d99"
      },
      "execution_count": null,
      "outputs": [
        {
          "output_type": "display_data",
          "data": {
            "text/plain": [
              "<Figure size 1000x500 with 2 Axes>"
            ],
            "image/png": "[encoded data removed]"
          },
          "metadata": {}
        }
      ]
    },
    {
      "cell_type": "markdown",
      "source": [
        "### 모델 평가하기"
      ],
      "metadata": {
        "id": "3HhZpv9RQFZR"
      }
    },
    {
      "cell_type": "code",
      "source": [
        "model.evaluate(x_test, y_test) # 오차, 정확도"
      ],
      "metadata": {
        "colab": {
          "base_uri": "https://localhost:8080/"
        },
        "id": "ePVTapiXQG8a",
        "outputId": "96be20c4-d3f5-4d1e-94fc-d2c9acda33bc"
      },
      "execution_count": null,
      "outputs": [
        {
          "output_type": "stream",
          "name": "stdout",
          "text": [
            "313/313 [==============================] - 1s 2ms/step - loss: 0.1435 - acc: 0.9704\n"
          ]
        },
        {
          "output_type": "execute_result",
          "data": {
            "text/plain": [
              "[0.14348375797271729, 0.9703999757766724]"
            ]
          },
          "metadata": {},
          "execution_count": 16
        }
      ]
    },
    {
      "cell_type": "markdown",
      "source": [
        "### 다중 분류 모델 평가 방법1 - 혼동 행렬"
      ],
      "metadata": {
        "id": "c3ef1FE4QbkQ"
      }
    },
    {
      "cell_type": "code",
      "source": [
        "from sklearn.metrics import classification_report, confusion_matrix\n",
        "import seaborn as sns\n",
        "\n",
        "# 모델의 예측 결과\n",
        "results = model.predict(x_test)\n",
        "# 혼동 행렬 heatmap\n",
        "plt.figure(figsize=(7,7))\n",
        "cm = confusion_matrix(np.argmax(y_test, axis=1),np.argmax(results, axis=1))\n",
        "sns.heatmap(cm, annot=True, fmt = 'd', cmap= 'Blues')\n",
        "plt.xlabel('predicted label')\n",
        "plt.ylabel('true label')\n",
        "plt.show()"
      ],
      "metadata": {
        "colab": {
          "base_uri": "https://localhost:8080/",
          "height": 636
        },
        "id": "pbKK7SvQQeeb",
        "outputId": "e60c2e80-cb37-4d8c-a8d8-15e779947af4"
      },
      "execution_count": null,
      "outputs": [
        {
          "output_type": "stream",
          "name": "stdout",
          "text": [
            "313/313 [==============================] - 1s 2ms/step\n"
          ]
        },
        {
          "output_type": "display_data",
          "data": {
            "text/plain": [
              "<Figure size 700x700 with 2 Axes>"
            ],
            "image/png": "[encoded data removed]"
          },
          "metadata": {}
        }
      ]
    },
    {
      "cell_type": "markdown",
      "source": [
        "### 다중 분류 모델 평가 방법2 - 분류 보고서\n"
      ],
      "metadata": {
        "id": "_-3ez_AfSesf"
      }
    },
    {
      "cell_type": "code",
      "source": [
        "# precision 정밀도(모델이 예측한 정답중에 실제 정답 비율) 스팸메일, 추천하는거 ,정리해주는거, 분류해주는거 ,정밀도 높은거\n",
        "# recall 재현율 (실제 정답중에 모델이 예측한 정답 비율) recall 이 높은걸 선택 생명과 관련된 예측은 리콜\n",
        "print(classification_report(np.argmax(y_test, axis=1),np.argmax(results, axis=1)))"
      ],
      "metadata": {
        "colab": {
          "base_uri": "https://localhost:8080/"
        },
        "id": "LGWYxuVVSphz",
        "outputId": "9cc4adf5-ee40-4c16-d707-f126f1394d64"
      },
      "execution_count": null,
      "outputs": [
        {
          "output_type": "stream",
          "name": "stdout",
          "text": [
            "              precision    recall  f1-score   support\n",
            "\n",
            "           0       0.98      0.98      0.98       980\n",
            "           1       0.99      0.99      0.99      1135\n",
            "           2       0.98      0.96      0.97      1032\n",
            "           3       0.97      0.96      0.97      1010\n",
            "           4       0.98      0.95      0.96       982\n",
            "           5       0.97      0.97      0.97       892\n",
            "           6       0.97      0.98      0.98       958\n",
            "           7       0.97      0.97      0.97      1028\n",
            "           8       0.95      0.96      0.95       974\n",
            "           9       0.94      0.97      0.96      1009\n",
            "\n",
            "    accuracy                           0.97     10000\n",
            "   macro avg       0.97      0.97      0.97     10000\n",
            "weighted avg       0.97      0.97      0.97     10000\n",
            "\n"
          ]
        }
      ]
    }
  ]
}